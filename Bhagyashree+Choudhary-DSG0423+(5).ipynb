{
 "cells": [
  {
   "cell_type": "code",
   "execution_count": 1,
   "id": "fd2e4adc",
   "metadata": {},
   "outputs": [],
   "source": [
    "#Create a matrix of size 4,6 filled with numbers between 15 to 60( Included) using random.randit(). \n"
   ]
  },
  {
   "cell_type": "code",
   "execution_count": null,
   "id": "144dd39d",
   "metadata": {},
   "outputs": [],
   "source": [
    "import numpy as np\n",
    "\n",
    "matrix = np.random.randint(15, 61, size=(4, 6))\n",
    "\n",
    "print(matrix)\n"
   ]
  },
  {
   "cell_type": "code",
   "execution_count": null,
   "id": "92f49297",
   "metadata": {},
   "outputs": [],
   "source": [
    "## I have practiced it in sample notebook and giving the final results in this final notebook new filew, however While solving the below  question 2, i got the error as np. is not is not defined,  which I am printing here is pasting from other file. \n",
    "\n",
    "---------------------------------------------------------\n",
    "NameError               Traceback (most recent call last)\n",
    "Cell In[3], line 3\n",
    "      1 user_id = \"data_science@xyz.com\"\n",
    "      2 password = \"123456\"\n",
    "----> 3 correct_otp = np.random.randint(1000, 10000)  # 4-digit OTP\n",
    "      6 login_attempts = 0\n",
    "      7 otp_attempts = 0\n",
    "\n",
    "NameError: name 'np' is not defined"
   ]
  },
  {
   "cell_type": "code",
   "execution_count": null,
   "id": "93676194",
   "metadata": {},
   "outputs": [],
   "source": [
    "# The below is Q2 \n",
    "\n",
    "# the below is for user ID, password, and correct OTP\n",
    "\n",
    "user_id = \"data_science@xyz.com\"\n",
    "password = \"123456\"\n",
    "correct_otp = np.random.randint(1000, 10000)  # 4-digit OTP\n",
    "\n",
    "#Here for the above np. I have got the error in other notebook which I have already explained earlier.\n",
    "# the below is for login attempts and OTP attempts\n",
    "\n",
    "\n",
    "login_attempts = 0\n",
    "otp_attempts = 0\n",
    "\n",
    "# the login attempt loop\n",
    "\n",
    "while login_attempts < 3:\n",
    "    entered_id = input(\"Enter your user ID: \")\n",
    "    entered_password = input(\"Enter your password: \")\n",
    "\n",
    "    if entered_id == user_id and entered_password == password:\n",
    "        print(\"Login successful!\")\n",
    "        break\n",
    "    else:\n",
    "        print(\"Invalid user ID or password.\")\n",
    "        login_attempts += 1"
   ]
  },
  {
   "cell_type": "code",
   "execution_count": null,
   "id": "a1fbc9d1",
   "metadata": {},
   "outputs": [],
   "source": [
    "if login_attempts == 3:\n",
    "    print(\"Maximum login attempts reached. Please try again later.\")\n",
    "\n",
    "else:\n",
    "    # to validate the OTP  loop\n",
    "    while otp_attempts < 3:\n",
    "        entered_otp = input(\"Enter the 4-digit OTP sent to your registered email: \")\n",
    "\n",
    "        if entered_otp.isnumeric() and int(entered_otp) == correct_otp:\n",
    "            print(\"OTP validation successful!\")\n",
    "            break\n",
    "        else:\n",
    "            print(\"Invalid OTP.\")\n",
    "            otp_attempts += 1\n",
    "\n",
    "    if otp_attempts == 3:\n",
    "        print(\"Maximum OTP validation attempts reached. Please try again later.\")\n",
    "            \n",
    "            \n"
   ]
  },
  {
   "cell_type": "code",
   "execution_count": null,
   "id": "dc23c793",
   "metadata": {},
   "outputs": [],
   "source": [
    "# while solving the other condition above I got the error in  other practice notebook was as below even if I am giving the login attempt as 3\n",
    "\n",
    "---------------------------------------------------------\n",
    "NameError               Traceback (most recent call last)\n",
    "Cell In[5], line 1\n",
    "----> 1 if login_attempts==3:\n",
    "      2     print(\"Maximum login attempts reached. Please try again later.\")\n",
    "      4 else:\n",
    "      5     # to validate the OTP  loop\n",
    "\n",
    "NameError: name 'login_attempts' is not defined"
   ]
  }
 ],
 "metadata": {
  "kernelspec": {
   "display_name": "Python 3 (ipykernel)",
   "language": "python",
   "name": "python3"
  },
  "language_info": {
   "codemirror_mode": {
    "name": "ipython",
    "version": 3
   },
   "file_extension": ".py",
   "mimetype": "text/x-python",
   "name": "python",
   "nbconvert_exporter": "python",
   "pygments_lexer": "ipython3",
   "version": "3.11.4"
  }
 },
 "nbformat": 4,
 "nbformat_minor": 5
}
